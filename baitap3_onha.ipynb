{
  "nbformat": 4,
  "nbformat_minor": 0,
  "metadata": {
    "colab": {
      "provenance": [],
      "authorship_tag": "ABX9TyP2mtnr9jfVY7NxjCEqa7TA",
      "include_colab_link": true
    },
    "kernelspec": {
      "name": "python3",
      "display_name": "Python 3"
    },
    "language_info": {
      "name": "python"
    }
  },
  "cells": [
    {
      "cell_type": "markdown",
      "metadata": {
        "id": "view-in-github",
        "colab_type": "text"
      },
      "source": [
        "<a href=\"https://colab.research.google.com/github/Viethoang0803/ph-n-t-ch-d-li-u-v-i-py/blob/main/baitap3_onha.ipynb\" target=\"_parent\"><img src=\"https://colab.research.google.com/assets/colab-badge.svg\" alt=\"Open In Colab\"/></a>"
      ]
    },
    {
      "cell_type": "code",
      "execution_count": 1,
      "metadata": {
        "colab": {
          "base_uri": "https://localhost:8080/"
        },
        "id": "cM86UePmBUeK",
        "outputId": "56ec57a9-fd27-4ac8-d085-e5af7439278b"
      },
      "outputs": [
        {
          "name": "stdout",
          "output_type": "stream",
          "text": [
            "Nhập danh sách mã nhân viên của cả 3 phòng, cách nhau bởi dấu phẩy: 123,234,456\n"
          ]
        }
      ],
      "source": [
        "# Nhập danh sách mã nhân viên của cả 3 phòng từ bàn phím\n",
        "employee_list = input(\"Nhập danh sách mã nhân viên của cả 3 phòng, cách nhau bởi dấu phẩy: \")\n",
        "\n",
        "# Tách chuỗi thành danh sách mã nhân viên\n",
        "employee_ids = [int(employee_id) for employee_id in employee_list.split(',')]"
      ]
    },
    {
      "cell_type": "code",
      "source": [
        "# Tính số lượng nhân viên của cả 3 phòng\n",
        "total_employees = len(employee_ids)\n",
        "\n",
        "# In ra màn hình số lượng nhân viên của cả 3 phòng\n",
        "print(f\"Tổng số nhân viên của cả 3 phòng là: {total_employees}\")\n"
      ],
      "metadata": {
        "colab": {
          "base_uri": "https://localhost:8080/"
        },
        "id": "XSpxE5pyBVNj",
        "outputId": "75899cdf-65e4-4351-e3f9-c9b31cf9b475"
      },
      "execution_count": 2,
      "outputs": [
        {
          "output_type": "stream",
          "name": "stdout",
          "text": [
            "Tổng số nhân viên của cả 3 phòng là: 3\n"
          ]
        }
      ]
    },
    {
      "cell_type": "code",
      "source": [
        "# In ra màn hình danh sách mã nhân viên thuộc cả 3 phòng\n",
        "print(\"Danh sách mã nhân viên của cả 3 phòng:\")\n",
        "for employee_id in employee_ids:\n",
        "    print(employee_id)"
      ],
      "metadata": {
        "colab": {
          "base_uri": "https://localhost:8080/"
        },
        "id": "Z9X5SeoRCPID",
        "outputId": "41355d00-3087-44c1-fd64-5e926f9bc119"
      },
      "execution_count": 3,
      "outputs": [
        {
          "output_type": "stream",
          "name": "stdout",
          "text": [
            "Danh sách mã nhân viên của cả 3 phòng:\n",
            "123\n",
            "234\n",
            "456\n"
          ]
        }
      ]
    },
    {
      "cell_type": "code",
      "source": [],
      "metadata": {
        "id": "aoZjKcr-ClZR"
      },
      "execution_count": null,
      "outputs": []
    }
  ]
}