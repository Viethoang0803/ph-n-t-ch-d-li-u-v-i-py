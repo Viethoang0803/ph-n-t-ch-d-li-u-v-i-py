{
  "nbformat": 4,
  "nbformat_minor": 0,
  "metadata": {
    "colab": {
      "provenance": [],
      "authorship_tag": "ABX9TyP9TO8OEED9Iynjq/M2FzGy",
      "include_colab_link": true
    },
    "kernelspec": {
      "name": "python3",
      "display_name": "Python 3"
    },
    "language_info": {
      "name": "python"
    }
  },
  "cells": [
    {
      "cell_type": "markdown",
      "metadata": {
        "id": "view-in-github",
        "colab_type": "text"
      },
      "source": [
        "<a href=\"https://colab.research.google.com/github/Viethoang0803/ph-n-t-ch-d-li-u-v-i-py/blob/main/buoi4.ipynb\" target=\"_parent\"><img src=\"https://colab.research.google.com/assets/colab-badge.svg\" alt=\"Open In Colab\"/></a>"
      ]
    },
    {
      "cell_type": "code",
      "execution_count": 2,
      "metadata": {
        "colab": {
          "base_uri": "https://localhost:8080/"
        },
        "id": "pk6bz9XIFiDK",
        "outputId": "81742d7f-7b3b-47eb-fe2e-4464861a10d9"
      },
      "outputs": [
        {
          "output_type": "stream",
          "name": "stdout",
          "text": [
            "Cac phan tu khac biet la: [1, 2]\n"
          ]
        }
      ],
      "source": [
        "#bai1\n",
        "def phan_tu_khac_biet(arr1, arr2):\n",
        "    # Lấy các phần tử khác biệt giữa arr1 và arr2\n",
        "    phan_tu_khac_biet = set(arr1) - set(arr2)\n",
        "\n",
        "    # Sắp xếp kết quả theo thứ tự tăng dần\n",
        "    ket_qua = sorted(list(phan_tu_khac_biet))\n",
        "\n",
        "    return ket_qua\n",
        "\n",
        "mang1 = [1, 2, 3, 4, 5]\n",
        "mang2 = [3, 4, 5, 6, 8]\n",
        "\n",
        "ket_qua = phan_tu_khac_biet(mang1, mang2)\n",
        "print(\"Cac phan tu khac biet la:\", ket_qua)\n"
      ]
    },
    {
      "cell_type": "code",
      "source": [
        "#bai2\n",
        "import numpy as np\n",
        "\n",
        "def tim_chi_so_max_min(arr, axis):\n",
        "    # Tìm chỉ số của giá trị lớn nhất và nhỏ nhất dọc theo trục\n",
        "    chi_so_max = np.argmax(arr, axis=axis)\n",
        "    chi_so_min = np.argmin(arr, axis=axis)\n",
        "\n",
        "    return chi_so_max, chi_so_min\n",
        "\n",
        "mang = np.array([[1, 2, 3],\n",
        "                 [4, 5, 6],\n",
        "                 [7, 8, 9]])\n",
        "\n",
        "# Tìm chỉ số của giá trị lớn nhất và nhỏ nhất dọc theo trục 0 (theo cột)\n",
        "chi_so_max_cot, chi_so_min_cot = tim_chi_so_max_min(mang, axis=0)\n",
        "print(\"Chỉ số của giá trị lớn nhất dọc theo cột:\", chi_so_max_cot)\n",
        "print(\"Chỉ số của giá trị nhỏ nhất dọc theo cột:\", chi_so_min_cot)\n",
        "\n",
        "# Tìm chỉ số của giá trị lớn nhất và nhỏ nhất dọc theo trục 1 (theo hàng)\n",
        "chi_so_max_hang, chi_so_min_hang = tim_chi_so_max_min(mang, axis=1)\n",
        "print(\"Chỉ số của giá trị lớn nhất dọc theo hàng:\", chi_so_max_hang)\n",
        "print(\"Chỉ số của giá trị nhỏ nhất dọc theo hàng:\", chi_so_min_hang)\n"
      ],
      "metadata": {
        "colab": {
          "base_uri": "https://localhost:8080/"
        },
        "id": "HpveiURoFpaV",
        "outputId": "2b6724d4-40d8-4b9b-d2ff-abc0f974887d"
      },
      "execution_count": 3,
      "outputs": [
        {
          "output_type": "stream",
          "name": "stdout",
          "text": [
            "Chỉ số của giá trị lớn nhất dọc theo cột: [2 2 2]\n",
            "Chỉ số của giá trị nhỏ nhất dọc theo cột: [0 0 0]\n",
            "Chỉ số của giá trị lớn nhất dọc theo hàng: [2 2 2]\n",
            "Chỉ số của giá trị nhỏ nhất dọc theo hàng: [0 0 0]\n"
          ]
        }
      ]
    },
    {
      "cell_type": "code",
      "source": [],
      "metadata": {
        "id": "1jDaAislGIuT"
      },
      "execution_count": null,
      "outputs": []
    }
  ]
}