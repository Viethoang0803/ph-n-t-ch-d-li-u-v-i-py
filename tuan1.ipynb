{
  "nbformat": 4,
  "nbformat_minor": 0,
  "metadata": {
    "colab": {
      "provenance": [],
      "authorship_tag": "ABX9TyNYJmtKSezbaxnuosE38t6u",
      "include_colab_link": true
    },
    "kernelspec": {
      "name": "python3",
      "display_name": "Python 3"
    },
    "language_info": {
      "name": "python"
    }
  },
  "cells": [
    {
      "cell_type": "markdown",
      "metadata": {
        "id": "view-in-github",
        "colab_type": "text"
      },
      "source": [
        "<a href=\"https://colab.research.google.com/github/Viethoang0803/ph-n-t-ch-d-li-u-v-i-py/blob/main/tuan1.ipynb\" target=\"_parent\"><img src=\"https://colab.research.google.com/assets/colab-badge.svg\" alt=\"Open In Colab\"/></a>"
      ]
    },
    {
      "cell_type": "code",
      "execution_count": 3,
      "metadata": {
        "colab": {
          "base_uri": "https://localhost:8080/"
        },
        "id": "9yjn6YGHZE9q",
        "outputId": "43c68dee-3022-4c29-a107-d157c8450bc7"
      },
      "outputs": [
        {
          "output_type": "stream",
          "name": "stdout",
          "text": [
            "A =5 \n",
            "B = 4\n",
            "C = 8\n",
            "Phuong trinh vo nghiem\n"
          ]
        }
      ],
      "source": [
        "#Bài 1\n",
        "##Ví dụ 1: giải phương trình bậc 2\n",
        "a = float(input('A ='))\n",
        "b = float(input('B = '))\n",
        "c = float(input('C = '))\n",
        "delta  = b*b - 4*a*c\n",
        "\n",
        "if delta == 0:\n",
        "  print(\" Nghiem kep: x = \",str(-b/2/a))\n",
        "if delta < 0:\n",
        "  print(\"Phuong trinh vo nghiem\")\n",
        "if delta > 0:\n",
        "  print(\"X1 = \" + str((-b+delta**0.5)/2/a))\n",
        "  print(\"X2 = \" + str((-b-delta**0.5)/2/a))\n",
        "\n"
      ]
    },
    {
      "cell_type": "code",
      "source": [
        "##ví dụ 2: tínhn!\n",
        "def giaithua(n):\n",
        "  gt =1\n",
        "  for i in range(2,n+1):\n",
        "    gt = gt *i\n",
        "  return gt\n",
        "a = int(input(\"nhập giá trị n: \"))\n",
        "print(\"N! = \",giaithua(a))"
      ],
      "metadata": {
        "colab": {
          "base_uri": "https://localhost:8080/"
        },
        "id": "2e-xEey8Zfri",
        "outputId": "a949d9f9-d9e5-4ac0-b258-52227fe0c558"
      },
      "execution_count": 4,
      "outputs": [
        {
          "output_type": "stream",
          "name": "stdout",
          "text": [
            "nhập giá trị n: 4\n",
            "N! =  24\n"
          ]
        }
      ]
    },
    {
      "cell_type": "code",
      "source": [
        "from binascii import b2a_base64\n",
        "##ví dụ 3: tính UCLN\n",
        "a = int(input(\"A =\"))\n",
        "b = int(input(\"B =\"))\n",
        "\n",
        "while (b>0):\n",
        "  if ( a>b):\n",
        "    a,b = b,a % b\n",
        "  else:\n",
        "    a,b = a, b%a\n",
        "print(\"Ước số chung lớn nhất là:\",a)\n"
      ],
      "metadata": {
        "colab": {
          "base_uri": "https://localhost:8080/"
        },
        "id": "r3HLa2IAbwyD",
        "outputId": "b89515e6-b137-4fd7-d424-51fe88f8d5dd"
      },
      "execution_count": 5,
      "outputs": [
        {
          "output_type": "stream",
          "name": "stdout",
          "text": [
            "A =7\n",
            "B =9\n",
            "Ước số chung lớn nhất là: 1\n"
          ]
        }
      ]
    },
    {
      "cell_type": "code",
      "source": [
        "#bài2\n",
        "def tinh_lai_suat(tien_gui,lai_suat,so_nam):\n",
        "  a = tien_gui * (1 + lai_suat)**so_nam\n",
        "  return a\n",
        "b = float(input(\"tien gui =\"))\n",
        "c = float(input(\"lai  suat = \"))\n",
        "d = float(input(\"so nam gui = \"))\n",
        "print(f\"Số tiền nhận được sau {d} năm là: {tinh_lai_suat(b,c,d)}\" )"
      ],
      "metadata": {
        "colab": {
          "base_uri": "https://localhost:8080/"
        },
        "id": "3O9yf3BkcePq",
        "outputId": "0069b6a2-e92b-47b9-a15d-759eaf3619d8"
      },
      "execution_count": 6,
      "outputs": [
        {
          "output_type": "stream",
          "name": "stdout",
          "text": [
            "tien gui =10000000\n",
            "lai  suat = 0.051\n",
            "so nam gui = 10\n",
            "Số tiền nhận được sau 10.0 năm là: 16444745.635659888\n"
          ]
        }
      ]
    },
    {
      "cell_type": "code",
      "source": [
        "def tinh_so_nam(so_tien_gui,r):\n",
        "  t =0\n",
        "  while so_tien_gui < 50000000:\n",
        "    so_tien_gui = so_tien_gui *(1+r)\n",
        "    t+=1\n",
        "  return t\n",
        "a = float(input(\"so_tien_gui = \"))\n",
        "b = float(input(\"r =\"))\n",
        "print(f\"Sau {tinh_so_nam(a,b)} năm bạn sẽ có ít nhất 50000000\")\n"
      ],
      "metadata": {
        "colab": {
          "base_uri": "https://localhost:8080/"
        },
        "id": "Fde7ZnY3fMv_",
        "outputId": "1dc1d5bb-ae9f-4e34-efe6-e00329207bf7"
      },
      "execution_count": 4,
      "outputs": [
        {
          "output_type": "stream",
          "name": "stdout",
          "text": [
            "so_tien_gui = 10000000\n",
            "r =0.051\n",
            "Sau 33 năm bạn sẽ có ít nhất 50000000\n"
          ]
        }
      ]
    },
    {
      "cell_type": "code",
      "source": [
        "#bài3\n",
        "n = int(input(\"nhập số nguyên n:\"))\n",
        "print(f\"Số {n} ở dạng cơ số 16 là : {format(n,'x')}\")\n",
        "print(f\"Số {n} ở dạng cơ số 8 là : {format(n,'o')}\")\n",
        "print(f\"Số {n} ở dạng cơ số 2 là : {format(n,'b')}\")"
      ],
      "metadata": {
        "colab": {
          "base_uri": "https://localhost:8080/"
        },
        "id": "fzpznW1_AX7m",
        "outputId": "2f79fb46-2fe3-4664-cfe4-749e81538f65"
      },
      "execution_count": 6,
      "outputs": [
        {
          "output_type": "stream",
          "name": "stdout",
          "text": [
            "nhập số nguyên n:10\n",
            "Số 10 ở dạng cơ số 16 là : a\n",
            "Số 10 ở dạng cơ số 8 là : 12\n",
            "Số 10 ở dạng cơ số 2 là : 1010\n"
          ]
        }
      ]
    },
    {
      "cell_type": "code",
      "source": [
        "#bài 4\n",
        "a = int(input(\"Nhập số nguyên a: \"))\n",
        "b = int(input(\"Nhập số nguyên b: \"))\n",
        "c = a **(1/b)\n",
        "print(f\"Căn bậc {b} của {a} là : {c}\")\n"
      ],
      "metadata": {
        "colab": {
          "base_uri": "https://localhost:8080/"
        },
        "id": "fVP1g3UjB4Kq",
        "outputId": "cb1171e6-c0e9-4470-c851-ff685d72fecf"
      },
      "execution_count": 7,
      "outputs": [
        {
          "output_type": "stream",
          "name": "stdout",
          "text": [
            "Nhập số nguyên a: 3\n",
            "Nhập số nguyên b: 4\n",
            "Căn bậc 4 của 3 là : 1.3160740129524924\n"
          ]
        }
      ]
    },
    {
      "cell_type": "code",
      "source": [
        "#bài5\n",
        "x = int(input(\"nhập số nguyên x:\"))\n",
        "a = str(x)\n",
        "print(f\"{x} có {len(a)} chữ số và chữ số đầu tiên của {x} là {x//10**(len(a)-1)}\")"
      ],
      "metadata": {
        "colab": {
          "base_uri": "https://localhost:8080/"
        },
        "id": "U_BjMHRJC2j6",
        "outputId": "136b6511-df12-4cf9-b551-5e3261f2b61b"
      },
      "execution_count": 10,
      "outputs": [
        {
          "output_type": "stream",
          "name": "stdout",
          "text": [
            "nhập số nguyên x:2546\n",
            "2546 có 4 chữ số và chữ số đầu tiên của 2546 là 2\n"
          ]
        }
      ]
    },
    {
      "cell_type": "code",
      "source": [
        "\n"
      ],
      "metadata": {
        "id": "ZN3XvrkEEESg"
      },
      "execution_count": null,
      "outputs": []
    }
  ]
}