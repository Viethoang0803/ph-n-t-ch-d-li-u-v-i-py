{
  "nbformat": 4,
  "nbformat_minor": 0,
  "metadata": {
    "colab": {
      "provenance": [],
      "authorship_tag": "ABX9TyPVH1Cwd/6wItD33soVarPf",
      "include_colab_link": true
    },
    "kernelspec": {
      "name": "python3",
      "display_name": "Python 3"
    },
    "language_info": {
      "name": "python"
    }
  },
  "cells": [
    {
      "cell_type": "markdown",
      "metadata": {
        "id": "view-in-github",
        "colab_type": "text"
      },
      "source": [
        "<a href=\"https://colab.research.google.com/github/Viethoang0803/ph-n-t-ch-d-li-u-v-i-py/blob/main/tuan_5%2B6.ipynb\" target=\"_parent\"><img src=\"https://colab.research.google.com/assets/colab-badge.svg\" alt=\"Open In Colab\"/></a>"
      ]
    },
    {
      "cell_type": "code",
      "execution_count": 1,
      "metadata": {
        "colab": {
          "base_uri": "https://localhost:8080/"
        },
        "id": "PHkR6CSxIEnh",
        "outputId": "134bca57-3755-48b6-fffa-60b2dee77bfc"
      },
      "outputs": [
        {
          "output_type": "execute_result",
          "data": {
            "text/plain": [
              "array([[26, 38, 44],\n",
              "       [30, 63, 54],\n",
              "       [ 3, 10,  5]])"
            ]
          },
          "metadata": {},
          "execution_count": 1
        }
      ],
      "source": [
        "import numpy as np\n",
        "\n",
        "A = np.array([[10,1,2],\n",
        "              [9,7,4],\n",
        "              [0,2,1]])\n",
        "B =np.array([[2,3,4],\n",
        "             [0,4,2],\n",
        "             [3,2,1]])\n",
        "\n",
        "#AB\n",
        "tich = np.dot(A,B)\n",
        "tich"
      ]
    },
    {
      "cell_type": "code",
      "source": [
        "\n",
        "# Tính B * A^T * A * B^T\n",
        "result1 = np.dot(B, np.dot(A.T, np.dot(A, B.T)))\n",
        "\n",
        "# Tính A * B^T * B * A^T\n",
        "result2 = np.dot(A, np.dot(B.T, np.dot(B, A.T)))\n",
        "\n",
        "print(\"B * A^T * A * B^T:\")\n",
        "print(result1)\n",
        "\n",
        "print(\"\\nA * B^T * B * A^T:\")\n",
        "print(result2)\n",
        "#nhận xét: ta thấy về mặt hình thức thì có vẻ như 2 phép tính là một nhưng về toán học thì 2 phép tính cho ra kết quả khác nhau do sự thay đổi giữa việc tính tích của ma trận với một ma trận chuyển vị"
      ],
      "metadata": {
        "colab": {
          "base_uri": "https://localhost:8080/"
        },
        "id": "TbrxphgLJP0Z",
        "outputId": "45b80c1d-41c8-478e-c7d6-cb6753850d6d"
      },
      "execution_count": 4,
      "outputs": [
        {
          "output_type": "stream",
          "name": "stdout",
          "text": [
            "B * A^T * A * B^T:\n",
            "[[4086 2328 3579]\n",
            " [2328 1460 1942]\n",
            " [3579 1942 3206]]\n",
            "\n",
            "A * B^T * B * A^T:\n",
            "[[2181 3523  560]\n",
            " [3523 6346 1135]\n",
            " [ 560 1135  225]]\n"
          ]
        }
      ]
    },
    {
      "cell_type": "code",
      "source": [
        "# Concatenate ma trận A và B theo dòng\n",
        "concatenated_matrix = np.concatenate((A, B), axis=0)\n",
        "\n",
        "# Reshape ma trận A thành vecto\n",
        "reshaped_vector = A.reshape(-1)\n",
        "\n",
        "print(\"Concatenated Matrix A and B:\")\n",
        "print(concatenated_matrix)\n",
        "\n",
        "print(\"\\nReshaped Vector from Matrix A:\")\n",
        "print(reshaped_vector)"
      ],
      "metadata": {
        "colab": {
          "base_uri": "https://localhost:8080/"
        },
        "id": "-PPZSEzJKG8a",
        "outputId": "e53504f3-e174-416b-8e72-8dc07f0d661e"
      },
      "execution_count": 5,
      "outputs": [
        {
          "output_type": "stream",
          "name": "stdout",
          "text": [
            "Concatenated Matrix A and B:\n",
            "[[10  1  2]\n",
            " [ 9  7  4]\n",
            " [ 0  2  1]\n",
            " [ 2  3  4]\n",
            " [ 0  4  2]\n",
            " [ 3  2  1]]\n",
            "\n",
            "Reshaped Vector from Matrix A:\n",
            "[10  1  2  9  7  4  0  2  1]\n"
          ]
        }
      ]
    },
    {
      "cell_type": "code",
      "source": [
        "A = np.array([[10,1,2],\n",
        "              [9,7,4],\n",
        "              [0,2,1]])\n",
        "def softmax(x):\n",
        "    exp_x = np.exp(x - np.max(x, axis=-1, keepdims=True))\n",
        "    return exp_x / np.sum(exp_x, axis=-1, keepdims=True)\n",
        "\n",
        "# Tính phân phối xác suất sau khi đi qua hàm softmax cho mỗi dòng\n",
        "softmax_result = softmax(A)\n",
        "\n",
        "# Tìm nhãn dự báo cho mỗi dòng\n",
        "predicted_labels = np.argmax(softmax_result, axis=1)\n",
        "\n",
        "# Tính tổng, trung bình, min và max của mỗi dòng\n",
        "sums = np.sum(A, axis=1)\n",
        "means = np.mean(A, axis=1)\n",
        "mins = np.min(A, axis=1)\n",
        "maxs = np.max(A, axis=1)\n",
        "\n",
        "print(\"Phân phối xác suất sau softmax:\")\n",
        "print(softmax_result)\n",
        "\n",
        "print(\"\\nNhãn dự báo cho mỗi dòng:\")\n",
        "print(predicted_labels)\n",
        "\n",
        "print(\"\\nTổng của mỗi dòng:\")\n",
        "print(sums)\n",
        "\n",
        "print(\"\\nTrung bình của mỗi dòng:\")\n",
        "print(means)\n",
        "\n",
        "print(\"\\nMin của mỗi dòng:\")\n",
        "print(mins)\n",
        "\n",
        "print(\"\\nMax của mỗi dòng:\")\n",
        "print(maxs)"
      ],
      "metadata": {
        "colab": {
          "base_uri": "https://localhost:8080/"
        },
        "id": "mDQ5-XtNKPDs",
        "outputId": "bed2c74b-e2cc-4e71-aec3-8b5628c825a8"
      },
      "execution_count": 7,
      "outputs": [
        {
          "output_type": "stream",
          "name": "stdout",
          "text": [
            "Phân phối xác suất sau softmax:\n",
            "[[9.99541338e-01 1.23353201e-04 3.35308764e-04]\n",
            " [8.75600595e-01 1.18499655e-01 5.89975040e-03]\n",
            " [9.00305732e-02 6.65240956e-01 2.44728471e-01]]\n",
            "\n",
            "Nhãn dự báo cho mỗi dòng:\n",
            "[0 0 1]\n",
            "\n",
            "Tổng của mỗi dòng:\n",
            "[13 20  3]\n",
            "\n",
            "Trung bình của mỗi dòng:\n",
            "[4.33333333 6.66666667 1.        ]\n",
            "\n",
            "Min của mỗi dòng:\n",
            "[1 4 0]\n",
            "\n",
            "Max của mỗi dòng:\n",
            "[10  9  2]\n"
          ]
        }
      ]
    },
    {
      "cell_type": "code",
      "source": [
        "#bai tap voi file excel\n",
        "import numpy as np\n",
        "import pandas as pd\n",
        "dataset = pd.read_excel(\"/content/Week4-data_06.xlsx\")\n",
        "print(dataset)\n",
        "print(dataset.head())"
      ],
      "metadata": {
        "colab": {
          "base_uri": "https://localhost:8080/"
        },
        "id": "fUohGxDcMkW9",
        "outputId": "e24102dd-a8fb-4b2c-f2aa-8b7df7556209"
      },
      "execution_count": 9,
      "outputs": [
        {
          "output_type": "stream",
          "name": "stdout",
          "text": [
            "                     Tên  Mã số               Trường cấp 2  Nguyện vọng 1  \\\n",
            "0           QUÁCH KIM HÀ  60132             THCS Phú Cường              6   \n",
            "1       PHẠM TRÚC PHƯƠNG  60421        THCS Trần Đại Nghĩa              6   \n",
            "2         TRẦN KHẢ DOANH  60075    THCS-THPT Nguyễn Khuyến              6   \n",
            "3      NGUYỄN MAI PHƯƠNG  60417        THCS Trần Đại Nghĩa              6   \n",
            "4          TRẦN MINH THY  60558  THCS Nguyễn Thị Minh Khai              6   \n",
            "..                   ...    ...                        ...            ...   \n",
            "636        TRẦN NHẬT ANH  60032       THCS Nguyễn Văn Tiết              6   \n",
            "637  DOÃN THỊ PHƯƠNG ANH  60017            THCS Bình Chiểu              6   \n",
            "638       CÙ THỊ GIA HÂN  60151     THCS Nguyễn Trung Trực              6   \n",
            "639      NGUYỄN TƯỜNG VY  60622        THCS Trịnh Hoài Đức              6   \n",
            "640         LƯU QUANG ĐÔ  60108        THCS Trịnh Hoài Đức              6   \n",
            "\n",
            "     Nguyện vọng 2  Điểm cộng   Văn   Anh  Toán   Tổng  Xếp hạng  \n",
            "0              2.0        3.0  9.00   8.9  8.75  29.65         1  \n",
            "1              7.0        2.0  8.75   9.6  9.25  29.60         2  \n",
            "2              7.0        2.0  8.25   9.6  9.25  29.10         3  \n",
            "3              7.0        NaN  8.75  10.0  9.25  28.00         4  \n",
            "4              2.0        2.0  8.25   9.7  8.00  27.95         5  \n",
            "..             ...        ...   ...   ...   ...    ...       ...  \n",
            "636            8.0        NaN  6.75   3.9  2.75  13.40       637  \n",
            "637           30.0        NaN  6.25   3.6  3.50  13.35       638  \n",
            "638            8.0        NaN  6.00   3.5  3.25  12.75       639  \n",
            "639            8.0        NaN  6.25   3.2  3.00  12.45       640  \n",
            "640           30.0        NaN  5.50   2.4  3.75  11.65       641  \n",
            "\n",
            "[641 rows x 11 columns]\n",
            "                 Tên  Mã số               Trường cấp 2  Nguyện vọng 1  \\\n",
            "0       QUÁCH KIM HÀ  60132             THCS Phú Cường              6   \n",
            "1   PHẠM TRÚC PHƯƠNG  60421        THCS Trần Đại Nghĩa              6   \n",
            "2     TRẦN KHẢ DOANH  60075    THCS-THPT Nguyễn Khuyến              6   \n",
            "3  NGUYỄN MAI PHƯƠNG  60417        THCS Trần Đại Nghĩa              6   \n",
            "4      TRẦN MINH THY  60558  THCS Nguyễn Thị Minh Khai              6   \n",
            "\n",
            "   Nguyện vọng 2  Điểm cộng   Văn   Anh  Toán   Tổng  Xếp hạng  \n",
            "0            2.0        3.0  9.00   8.9  8.75  29.65         1  \n",
            "1            7.0        2.0  8.75   9.6  9.25  29.60         2  \n",
            "2            7.0        2.0  8.25   9.6  9.25  29.10         3  \n",
            "3            7.0        NaN  8.75  10.0  9.25  28.00         4  \n",
            "4            2.0        2.0  8.25   9.7  8.00  27.95         5  \n"
          ]
        }
      ]
    },
    {
      "cell_type": "code",
      "source": [
        "data = dataset.to_numpy()\n",
        "print(data.shape)\n"
      ],
      "metadata": {
        "colab": {
          "base_uri": "https://localhost:8080/"
        },
        "id": "nX3Qx_OzNU6X",
        "outputId": "21443b03-a161-416b-9678-e35be71405f6"
      },
      "execution_count": 10,
      "outputs": [
        {
          "output_type": "stream",
          "name": "stdout",
          "text": [
            "(641, 11)\n"
          ]
        }
      ]
    },
    {
      "cell_type": "code",
      "source": [
        "print(data[0])"
      ],
      "metadata": {
        "colab": {
          "base_uri": "https://localhost:8080/"
        },
        "id": "uC3bnqiyNjrD",
        "outputId": "5a93b5c5-c9c8-4f7c-8be0-aae2022cd1b5"
      },
      "execution_count": 11,
      "outputs": [
        {
          "output_type": "stream",
          "name": "stdout",
          "text": [
            "['QUÁCH KIM HÀ' 60132 'THCS Phú Cường' 6 2.0 3.0 9.0 8.9 8.75 29.65 1]\n"
          ]
        }
      ]
    },
    {
      "cell_type": "code",
      "source": [
        "print(data.dtype)"
      ],
      "metadata": {
        "colab": {
          "base_uri": "https://localhost:8080/"
        },
        "id": "rT03A--5Nljr",
        "outputId": "63f876c2-8f0f-4d3f-8d29-0498baa30842"
      },
      "execution_count": 12,
      "outputs": [
        {
          "output_type": "stream",
          "name": "stdout",
          "text": [
            "object\n"
          ]
        }
      ]
    },
    {
      "cell_type": "code",
      "source": [
        "print(data[0].dtype)"
      ],
      "metadata": {
        "colab": {
          "base_uri": "https://localhost:8080/"
        },
        "id": "iChS6OEYNqf4",
        "outputId": "efdccc0f-105d-42b9-bb45-566213e21635"
      },
      "execution_count": 13,
      "outputs": [
        {
          "output_type": "stream",
          "name": "stdout",
          "text": [
            "object\n"
          ]
        }
      ]
    },
    {
      "cell_type": "code",
      "source": [
        "np.nan_to_num([0.3, np.nan, 2.4])"
      ],
      "metadata": {
        "colab": {
          "base_uri": "https://localhost:8080/"
        },
        "id": "obm8RxZKNsXy",
        "outputId": "a4056cfb-3c14-416b-95a7-e8a7b17fb541"
      },
      "execution_count": 14,
      "outputs": [
        {
          "output_type": "execute_result",
          "data": {
            "text/plain": [
              "array([0.3, 0. , 2.4])"
            ]
          },
          "metadata": {},
          "execution_count": 14
        }
      ]
    },
    {
      "cell_type": "code",
      "source": [
        "data[:, 5] = np.nan_to_num(data[:, 5].astype(float))\n",
        "print(data[:, 5])\n",
        "print(data[-1])"
      ],
      "metadata": {
        "colab": {
          "base_uri": "https://localhost:8080/"
        },
        "id": "n4HE6ir7NuCR",
        "outputId": "66c090bd-92ce-49c3-ea8a-b4337704130b"
      },
      "execution_count": 15,
      "outputs": [
        {
          "output_type": "stream",
          "name": "stdout",
          "text": [
            "[3.0 2.0 2.0 0.0 2.0 0.0 2.0 0.0 0.0 2.0 2.0 0.0 1.0 0.0 0.0 2.0 2.0 1.0\n",
            " 0.0 1.0 0.0 0.0 0.0 0.0 2.0 2.0 2.0 0.0 2.0 0.0 0.0 2.0 0.0 0.0 0.0 0.0\n",
            " 0.0 0.0 0.0 0.0 2.0 0.0 2.0 0.0 2.0 0.0 2.5 0.0 0.0 0.0 2.0 0.0 0.0 0.0\n",
            " 0.0 0.0 0.0 0.0 0.0 1.0 0.0 0.0 0.0 1.0 0.0 0.0 0.0 0.0 0.0 0.0 0.0 0.0\n",
            " 1.0 0.0 2.0 0.0 1.0 0.0 1.0 2.0 0.0 0.0 0.0 0.0 0.0 2.0 0.0 2.0 1.0 0.0\n",
            " 1.0 0.0 1.0 0.0 1.0 0.0 0.0 1.0 0.0 1.0 2.0 0.0 0.0 0.0 0.0 0.0 2.0 0.0\n",
            " 0.0 1.0 0.0 0.0 0.0 0.0 1.0 1.0 1.0 0.0 1.0 0.0 0.0 0.0 1.0 0.0 2.0 0.0\n",
            " 0.0 2.0 0.0 0.0 0.0 0.0 0.0 0.0 0.0 0.0 1.0 1.0 0.0 0.0 1.0 0.0 0.0 0.0\n",
            " 0.0 1.0 0.0 2.0 0.0 0.0 0.0 2.0 2.0 1.0 1.0 0.0 0.0 0.0 0.0 2.0 0.0 0.0\n",
            " 1.0 0.0 1.0 0.0 0.0 0.0 0.0 0.0 0.0 0.0 2.0 1.0 0.0 0.0 0.0 0.0 0.0 0.0\n",
            " 2.0 0.0 2.0 0.0 0.0 0.0 0.0 0.0 0.0 0.0 1.0 0.0 0.0 1.0 0.0 0.0 0.0 0.0\n",
            " 0.0 0.0 0.0 1.0 2.0 0.0 0.0 0.0 0.0 2.0 0.0 1.0 0.0 0.0 0.0 1.0 0.0 0.0\n",
            " 0.0 0.0 1.0 0.0 0.0 0.0 0.0 0.0 0.0 1.0 0.0 0.0 0.0 0.0 0.0 1.0 0.0 0.0\n",
            " 1.0 1.0 1.0 0.0 0.0 0.0 0.0 0.0 0.0 0.0 0.0 0.0 0.0 1.0 0.0 0.0 0.0 0.0\n",
            " 2.0 1.0 0.0 0.0 0.0 0.0 0.0 0.0 0.0 0.0 0.0 1.0 0.0 0.0 2.0 0.0 0.0 0.0\n",
            " 1.5 0.0 1.0 0.0 0.0 0.0 0.0 2.0 0.0 0.0 0.0 0.0 0.0 0.0 0.0 0.0 1.0 0.0\n",
            " 0.0 0.0 1.0 0.0 0.0 0.0 0.0 2.0 0.0 0.0 0.0 0.0 0.0 0.0 0.0 0.0 0.0 0.0\n",
            " 1.0 0.0 0.0 0.0 0.0 0.0 0.0 0.0 2.0 0.0 0.0 0.0 0.0 0.0 0.0 0.0 0.0 0.0\n",
            " 0.0 0.0 0.0 0.0 0.0 0.0 0.0 0.0 0.0 0.0 0.0 0.0 0.0 0.0 0.0 1.0 0.0 0.0\n",
            " 0.0 0.0 0.0 0.0 0.0 1.0 0.0 0.0 0.0 0.0 0.0 0.0 0.0 0.0 0.0 2.0 0.0 0.0\n",
            " 0.0 0.0 1.0 0.0 0.0 0.0 0.0 0.0 0.0 1.0 1.0 0.0 0.0 0.0 0.0 0.0 0.0 0.0\n",
            " 0.0 0.0 0.0 0.0 0.0 0.0 0.0 0.0 0.0 0.0 0.0 0.0 0.0 0.0 0.0 0.0 0.0 0.0\n",
            " 0.0 0.0 0.0 0.0 0.0 0.0 0.0 0.0 0.0 0.0 0.0 0.0 0.0 0.0 0.0 0.0 0.0 1.0\n",
            " 0.0 0.0 0.0 0.0 0.0 0.0 0.0 0.0 0.0 0.0 0.0 0.0 0.0 1.0 0.0 0.0 0.0 1.0\n",
            " 0.0 0.0 0.0 1.0 0.0 0.0 0.0 0.0 0.0 0.0 0.0 0.0 0.0 0.0 0.0 0.0 0.0 0.0\n",
            " 0.0 0.0 0.0 0.0 0.0 0.0 0.0 0.0 0.0 0.0 0.0 0.0 0.0 0.0 0.0 0.0 0.0 0.0\n",
            " 0.0 0.0 0.0 0.0 0.0 0.0 0.0 0.0 0.0 0.0 0.0 0.0 0.0 0.0 0.0 0.0 0.0 0.0\n",
            " 0.0 0.0 0.0 0.0 1.0 0.0 0.0 0.0 0.0 0.0 0.0 0.0 0.0 0.0 0.0 0.0 1.0 0.0\n",
            " 0.0 0.0 0.0 0.0 0.0 0.0 0.0 0.0 0.0 0.0 0.0 0.0 0.0 0.0 0.0 0.0 0.0 0.0\n",
            " 0.0 0.0 0.0 0.0 0.0 0.0 0.0 0.0 0.0 0.0 0.0 0.0 1.0 1.0 1.0 0.0 0.0 0.0\n",
            " 0.0 0.0 0.0 0.0 0.0 0.0 0.0 0.0 0.0 0.0 0.0 0.0 0.0 1.0 0.0 0.0 0.0 0.0\n",
            " 0.0 0.0 0.0 0.0 0.0 0.0 0.0 0.0 0.0 0.0 0.0 0.0 0.0 0.0 0.0 0.0 0.0 0.0\n",
            " 0.0 0.0 0.0 0.0 0.0 0.0 0.0 0.0 0.0 0.0 0.0 0.0 0.0 0.0 1.0 0.0 0.0 0.0\n",
            " 0.0 0.0 0.0 0.0 0.0 0.0 0.0 1.0 1.0 0.0 0.0 0.0 0.0 0.0 0.0 0.0 0.0 0.0\n",
            " 0.0 0.0 0.0 0.0 0.0 0.0 0.0 0.0 0.0 1.0 0.0 0.0 0.0 1.0 0.0 0.0 0.0 0.0\n",
            " 0.0 0.0 0.0 0.0 0.0 0.0 0.0 0.0 0.0 0.0 0.0]\n",
            "['LƯU QUANG ĐÔ' 60108 'THCS Trịnh Hoài Đức' 6 30.0 0.0 5.5 2.4 3.75 11.65\n",
            " 641]\n"
          ]
        }
      ]
    },
    {
      "cell_type": "code",
      "source": [
        "## Đưa ra thông tin của bạn với mã số: 60457\n",
        "info_60457 = dataset[dataset['Mã số'] == 60457]\n",
        "print(\"Thông tin với mã số 60457:\")\n",
        "print(info_60457)"
      ],
      "metadata": {
        "colab": {
          "base_uri": "https://localhost:8080/"
        },
        "id": "YM9LEvPVNyJQ",
        "outputId": "0ed2c7fc-2c76-49fc-ec5c-b52d3ce62ec9"
      },
      "execution_count": 22,
      "outputs": [
        {
          "output_type": "stream",
          "name": "stdout",
          "text": [
            "Thông tin với mã số 60457:\n",
            "                      Tên  Mã số   Trường cấp 2  Nguyện vọng 1  Nguyện vọng 2  \\\n",
            "100  NGUYỄN LÊ PHƯƠNG TÂM  60457  THCS Phú Long              6            7.0   \n",
            "\n",
            "     Điểm cộng  Văn  Anh  Toán   Tổng  Xếp hạng  \n",
            "100        2.0  7.0  9.4  6.25  24.65       101  \n"
          ]
        }
      ]
    },
    {
      "cell_type": "code",
      "source": [
        "## Đưa ra thông tin của bạn với tên là: Nguyễn Đình Nhân\n",
        "info_name = dataset[dataset['Tên'] ==  'Nguyễn Đình Nhân']\n",
        "print(\"Thông tin của bạn Nguyễn Đình Nhân:\")\n",
        "print(info_name)"
      ],
      "metadata": {
        "colab": {
          "base_uri": "https://localhost:8080/"
        },
        "id": "oedMUeukN1Lc",
        "outputId": "39610285-d486-4b46-d9a1-e4319f05876f"
      },
      "execution_count": 30,
      "outputs": [
        {
          "output_type": "stream",
          "name": "stdout",
          "text": [
            "Thông tin của bạn Nguyễn Đình Nhân:\n",
            "Empty DataFrame\n",
            "Columns: [Tên, Mã số, Trường cấp 2, Nguyện vọng 1, Nguyện vọng 2, Điểm cộng, Văn, Anh, Toán, Tổng, Xếp hạng]\n",
            "Index: []\n"
          ]
        }
      ]
    },
    {
      "cell_type": "code",
      "source": [
        "## Đưa ra thông tin của các bạn từ mã số: 60004 đến  60200 (Bạn nào không có thì không cần đưa ra)\n",
        "info_60004_60200 = dataset[(dataset['Mã số'] >= 60004) & (dataset['Mã số'] <= 60200)]\n",
        "\n",
        "# Hiển thị thông tin\n",
        "print(\"Thông tin của các bạn từ mã số 60004 đến 60200:\")\n",
        "print(info_60004_60200)"
      ],
      "metadata": {
        "colab": {
          "base_uri": "https://localhost:8080/"
        },
        "id": "4ENyewhYPNtW",
        "outputId": "640aaa37-049b-4698-ef1b-b94741437978"
      },
      "execution_count": 32,
      "outputs": [
        {
          "output_type": "stream",
          "name": "stdout",
          "text": [
            "Thông tin của các bạn từ mã số 60004 đến 60200:\n",
            "                     Tên  Mã số               Trường cấp 2  Nguyện vọng 1  \\\n",
            "0           QUÁCH KIM HÀ  60132             THCS Phú Cường              6   \n",
            "2         TRẦN KHẢ DOANH  60075    THCS-THPT Nguyễn Khuyến              6   \n",
            "5     PHẠM LỢI NGỌC HIỀN  60158         THCS Châu Văn Liêm              6   \n",
            "7         ĐẶNG MINH CHÂU  60067  THCS Nguyễn Thị Minh Khai              6   \n",
            "10         NGÔ MỸ GIA AN  60004    THCS-THPT Nguyễn Khuyến              6   \n",
            "..                   ...    ...                        ...            ...   \n",
            "634      NGUYỄN TUẤN ANH  60033            THCS Thanh Bình              6   \n",
            "636        TRẦN NHẬT ANH  60032       THCS Nguyễn Văn Tiết              6   \n",
            "637  DOÃN THỊ PHƯƠNG ANH  60017            THCS Bình Chiểu              6   \n",
            "638       CÙ THỊ GIA HÂN  60151     THCS Nguyễn Trung Trực              6   \n",
            "640         LƯU QUANG ĐÔ  60108        THCS Trịnh Hoài Đức              6   \n",
            "\n",
            "     Nguyện vọng 2  Điểm cộng   Văn  Anh  Toán   Tổng  Xếp hạng  \n",
            "0              2.0        3.0  9.00  8.9  8.75  29.65         1  \n",
            "2              7.0        2.0  8.25  9.6  9.25  29.10         3  \n",
            "5              7.0        NaN  8.50  9.9  9.50  27.90         6  \n",
            "7              2.0        NaN  9.00  9.9  9.00  27.90         8  \n",
            "10             2.0        2.0  7.50  9.3  8.75  27.55        11  \n",
            "..             ...        ...   ...  ...   ...    ...       ...  \n",
            "634            8.0        NaN  3.50  4.7  5.50  13.70       635  \n",
            "636            8.0        NaN  6.75  3.9  2.75  13.40       637  \n",
            "637           30.0        NaN  6.25  3.6  3.50  13.35       638  \n",
            "638            8.0        NaN  6.00  3.5  3.25  12.75       639  \n",
            "640           30.0        NaN  5.50  2.4  3.75  11.65       641  \n",
            "\n",
            "[197 rows x 11 columns]\n"
          ]
        }
      ]
    },
    {
      "cell_type": "code",
      "source": [
        "# Tính điểm trung bình cho từng sinh viên\n",
        "dataset['Điểm Trung Bình'] = dataset[['Văn', 'Anh', 'Toán']].mean(axis=1)\n",
        "\n",
        "# Hiển thị thông tin với cột Điểm Trung Bình mới thêm vào\n",
        "print(\"Thông tin với điểm trung bình:\")\n",
        "print(dataset[['Mã số', 'Tên', 'Văn', 'Anh', 'Toán', 'Điểm Trung Bình']])\n"
      ],
      "metadata": {
        "colab": {
          "base_uri": "https://localhost:8080/"
        },
        "id": "GO1iUeYvQ5L8",
        "outputId": "e9e2903d-6682-4f20-e72c-f8e60c9aa076"
      },
      "execution_count": 34,
      "outputs": [
        {
          "output_type": "stream",
          "name": "stdout",
          "text": [
            "Thông tin với điểm trung bình:\n",
            "     Mã số                  Tên   Văn   Anh  Toán  Điểm Trung Bình\n",
            "0    60132         QUÁCH KIM HÀ  9.00   8.9  8.75         8.883333\n",
            "1    60421     PHẠM TRÚC PHƯƠNG  8.75   9.6  9.25         9.200000\n",
            "2    60075       TRẦN KHẢ DOANH  8.25   9.6  9.25         9.033333\n",
            "3    60417    NGUYỄN MAI PHƯƠNG  8.75  10.0  9.25         9.333333\n",
            "4    60558        TRẦN MINH THY  8.25   9.7  8.00         8.650000\n",
            "..     ...                  ...   ...   ...   ...              ...\n",
            "636  60032        TRẦN NHẬT ANH  6.75   3.9  2.75         4.466667\n",
            "637  60017  DOÃN THỊ PHƯƠNG ANH  6.25   3.6  3.50         4.450000\n",
            "638  60151       CÙ THỊ GIA HÂN  6.00   3.5  3.25         4.250000\n",
            "639  60622      NGUYỄN TƯỜNG VY  6.25   3.2  3.00         4.150000\n",
            "640  60108         LƯU QUANG ĐÔ  5.50   2.4  3.75         3.883333\n",
            "\n",
            "[641 rows x 6 columns]\n"
          ]
        }
      ]
    },
    {
      "cell_type": "code",
      "source": [
        "# Tính điểm trung bình theo từng môn\n",
        "diemTB_van = dataset['Văn'].mean()\n",
        "diemTB_anh = dataset['Anh'].mean()\n",
        "diemTB_toan = dataset['Toán'].mean()\n",
        "\n",
        "# Hiển thị thông tin\n",
        "print(\"Điểm trung bình theo từng môn:\")\n",
        "print(\"Điểm Trung Bình Văn:\", diemTB_van)\n",
        "print(\"Điểm Trung Bình Anh:\", diemTB_anh)\n",
        "print(\"Điểm Trung Bình Toán:\", diemTB_toan)\n"
      ],
      "metadata": {
        "colab": {
          "base_uri": "https://localhost:8080/"
        },
        "id": "8uhLrYzpSCpU",
        "outputId": "21cd862d-7e50-4107-db29-62fbcb233816"
      },
      "execution_count": 35,
      "outputs": [
        {
          "output_type": "stream",
          "name": "stdout",
          "text": [
            "Điểm trung bình theo từng môn:\n",
            "Điểm Trung Bình Văn: 7.287051482059282\n",
            "Điểm Trung Bình Anh: 6.99625585023401\n",
            "Điểm Trung Bình Toán: 7.1080343213728545\n"
          ]
        }
      ]
    },
    {
      "cell_type": "code",
      "source": [
        "## Đưa ra điểm thi trung bình cao nhất và thấp nhất cho toàn bộ 3 môn.\n",
        "max_tong = max(diemTB_van, diemTB_anh, diemTB_toan)\n",
        "min_tong = min(diemTB_van, diemTB_anh, diemTB_toan)\n",
        "\n",
        "# Hiển thị thông tin\n",
        "print(\"Điểm Trung Bình Cao Nhất:\", max_tong)\n",
        "print(\"Điểm Trung Bình Thấp Nhất:\", min_tong)\n"
      ],
      "metadata": {
        "colab": {
          "base_uri": "https://localhost:8080/"
        },
        "id": "LMGCERj4TCmV",
        "outputId": "dd9e1ecb-50ef-41a6-cb71-d7d193c9fb0e"
      },
      "execution_count": 36,
      "outputs": [
        {
          "output_type": "stream",
          "name": "stdout",
          "text": [
            "Điểm Trung Bình Cao Nhất: 7.287051482059282\n",
            "Điểm Trung Bình Thấp Nhất: 6.99625585023401\n"
          ]
        }
      ]
    },
    {
      "cell_type": "code",
      "source": [
        "## Xếp danh sách dựa vào điểm trung bình của môn Toán + Anh, tìm bạn có vị trí 100\n",
        "# Tính điểm trung bình của môn Toán + Anh\n",
        "dataset['Điểm Trung Bình Toán Anh'] = dataset[['Anh', 'Toán']].mean(axis=1)\n",
        "\n",
        "# Xếp danh sách theo điểm trung bình Toán + Anh\n",
        "dataset_sorted = dataset.sort_values(by='Điểm Trung Bình Toán Anh', ascending=False)\n",
        "\n",
        "# Hiển thị thông tin\n",
        "print(\"Danh sách xếp hạng theo điểm trung bình Toán + Anh:\")\n",
        "print(dataset_sorted[['Mã số', 'Tên', 'Điểm Trung Bình Toán Anh']])\n",
        "\n",
        "# Tìm bạn có vị trí 100\n",
        "student_at_rank_100 = dataset_sorted.iloc[99] if len(dataset_sorted) >= 100 else None\n",
        "\n",
        "# Hiển thị thông tin về bạn có vị trí 100\n",
        "if student_at_rank_100 is not None:\n",
        "    print(\"\\nThông tin của bạn có vị trí 100:\")\n",
        "    print(student_at_rank_100)\n",
        "else:\n",
        "    print(\"\\nKhông có đủ sinh viên để đạt đến vị trí 100.\")\n"
      ],
      "metadata": {
        "colab": {
          "base_uri": "https://localhost:8080/"
        },
        "id": "XWsW2u6rT0q_",
        "outputId": "51f0f247-aa51-4149-ec89-00e347b18d9e"
      },
      "execution_count": 37,
      "outputs": [
        {
          "output_type": "stream",
          "name": "stdout",
          "text": [
            "Danh sách xếp hạng theo điểm trung bình Toán + Anh:\n",
            "     Mã số                  Tên  Điểm Trung Bình Toán Anh\n",
            "11   60169       NGUYỄN AN HOÀI                     9.750\n",
            "5    60158   PHẠM LỢI NGỌC HIỀN                     9.700\n",
            "3    60417    NGUYỄN MAI PHƯƠNG                     9.625\n",
            "8    60334         LÊ MINH NGỌC                     9.525\n",
            "23   60129        PHẠM THANH HÀ                     9.500\n",
            "..     ...                  ...                       ...\n",
            "637  60017  DOÃN THỊ PHƯƠNG ANH                     3.550\n",
            "638  60151       CÙ THỊ GIA HÂN                     3.375\n",
            "636  60032        TRẦN NHẬT ANH                     3.325\n",
            "639  60622      NGUYỄN TƯỜNG VY                     3.100\n",
            "640  60108         LƯU QUANG ĐÔ                     3.075\n",
            "\n",
            "[641 rows x 3 columns]\n",
            "\n",
            "Thông tin của bạn có vị trí 100:\n",
            "Tên                         NGUYỄN NGỌC QUỲNH ANH\n",
            "Mã số                                       60010\n",
            "Trường cấp 2                  THCS Trịnh Hoài Đức\n",
            "Nguyện vọng 1                                   6\n",
            "Nguyện vọng 2                                 8.0\n",
            "Điểm cộng                                     2.0\n",
            "Văn                                           7.5\n",
            "Anh                                           9.8\n",
            "Toán                                         6.75\n",
            "Tổng                                        26.05\n",
            "Xếp hạng                                       41\n",
            "Điểm Trung Bình                          8.016667\n",
            "Điểm Trung Bình Toán Anh                    8.275\n",
            "Name: 40, dtype: object\n"
          ]
        }
      ]
    },
    {
      "cell_type": "code",
      "source": [
        "## Giả sử 1 trường lấy toàn bộ 300 sinh viên, dựa theo\n",
        "## a) Điểm môn Toán từ cao xuống thấp\n",
        "## b) Điểm tổng 3 môn và điểm cộng từ cao xuống thấp\n",
        "## c) Điểm trung bình 3 môn từ cao xuống thấp\n",
        "## Đưa ra danh sách những bạn sinh viên được chọn vào trường đó.\n",
        "\n",
        "# a) Sắp xếp theo điểm môn Toán từ cao xuống thấp\n",
        "toan_sorted = dataset.sort_values(by='Toán', ascending=False)\n",
        "\n",
        "# Lấy 300 sinh viên đầu tiên\n",
        "selected_students_toan = toan_sorted.head(300)\n",
        "\n",
        "# Hiển thị thông tin\n",
        "print(\"Danh sách sinh viên được chọn dựa trên điểm môn Toán:\")\n",
        "print(selected_students_toan)\n",
        "\n"
      ],
      "metadata": {
        "colab": {
          "base_uri": "https://localhost:8080/"
        },
        "id": "3ls4pl7iUc7o",
        "outputId": "78577a42-d08f-4908-d247-cf4ca059ed5c"
      },
      "execution_count": 46,
      "outputs": [
        {
          "output_type": "stream",
          "name": "stdout",
          "text": [
            "Danh sách sinh viên được chọn dựa trên điểm môn Toán:\n",
            "                            Tên  Mã số               Trường cấp 2  \\\n",
            "8                  LÊ MINH NGỌC  60334        THCS Trần Đại Nghĩa   \n",
            "23                PHẠM THANH HÀ  60129  THCS Nguyễn Thị Minh Khai   \n",
            "20                  LƯU MINH ÂN  60037        THCS Trần Đại Nghĩa   \n",
            "5            PHẠM LỢI NGỌC HIỀN  60158         THCS Châu Văn Liêm   \n",
            "11               NGUYỄN AN HOÀI  60169    THCS-THPT Nguyễn Khuyến   \n",
            "..                          ...    ...                        ...   \n",
            "346    NGUYỄN HUYỀN PHƯƠNG THẢO  60504          THCS Bình Thắng B   \n",
            "166         BÙI MINH KHÁNH ĐOAN  60107            THCS Chu Văn An   \n",
            "189  NGUYỄN TRƯỜNG THỤY ANH THƯ  60541        THCS Trịnh Hoài Đức   \n",
            "162            PHẠM PHƯƠNG ĐÔNG  60109       THCS Nguyễn Văn Tiết   \n",
            "342              MAI THANH BÌNH  60055        THCS Trịnh Hoài Đức   \n",
            "\n",
            "     Nguyện vọng 1  Nguyện vọng 2  Điểm cộng   Văn   Anh  Toán   Tổng  \\\n",
            "8                6            7.0        NaN  8.75   9.3  9.75  27.80   \n",
            "23               6            2.0        NaN  7.50   9.5  9.50  26.50   \n",
            "20               6            7.0        NaN  7.75   9.4  9.50  26.65   \n",
            "5                6            7.0        NaN  8.50   9.9  9.50  27.90   \n",
            "11               6            2.0        NaN  8.00  10.0  9.50  27.50   \n",
            "..             ...            ...        ...   ...   ...   ...    ...   \n",
            "346              6           30.0        NaN  6.25   8.0  7.25  21.50   \n",
            "166              6            2.0        NaN  7.50   8.9  7.25  23.65   \n",
            "189              6            8.0        NaN  8.50   7.6  7.25  23.35   \n",
            "162              6            7.0        1.0  6.75   8.7  7.25  23.70   \n",
            "342              6            7.0        NaN  7.00   7.3  7.25  21.55   \n",
            "\n",
            "     Xếp hạng  Điểm Trung Bình  Điểm Trung Bình Toán Anh  Điểm Tổng 3 Môn  \n",
            "8           9         9.266667                     9.525            27.80  \n",
            "23         24         8.833333                     9.500            26.50  \n",
            "20         21         8.883333                     9.450            26.65  \n",
            "5           6         9.300000                     9.700            27.90  \n",
            "11         12         9.166667                     9.750            27.50  \n",
            "..        ...              ...                       ...              ...  \n",
            "346       347         7.166667                     7.625            21.50  \n",
            "166       167         7.883333                     8.075            23.65  \n",
            "189       190         7.783333                     7.425            23.35  \n",
            "162       163         7.566667                     7.975            22.70  \n",
            "342       343         7.183333                     7.275            21.55  \n",
            "\n",
            "[300 rows x 14 columns]\n"
          ]
        }
      ]
    },
    {
      "cell_type": "code",
      "source": [
        "# b) Sắp xếp theo điểm tổng 3 môn và điểm cộng từ cao xuống thấp\n",
        "# Tính điểm tổng 3 môn và điểm cộng\n",
        "dataset['Điểm Tổng 3 Môn và điểm cộng'] = dataset[['Tổng','Điểm cộng']].sum(axis=1)\n",
        "tong_cong_sorted = dataset.sort_values(by=['Điểm Tổng 3 Môn và điểm cộng'], ascending=False)\n",
        "\n",
        "# Lấy 300 sinh viên đầu tiên\n",
        "selected_students_tong_cong = tong_cong_sorted.head(300)\n",
        "print(\"\\nDanh sách sinh viên được chọn dựa trên điểm tổng 3 môn và điểm cộng:\")\n",
        "print(selected_students_tong_cong)"
      ],
      "metadata": {
        "colab": {
          "base_uri": "https://localhost:8080/"
        },
        "id": "3ySqo3znVy9u",
        "outputId": "2c9c203f-b64d-49b8-bb78-9eaea0893ea9"
      },
      "execution_count": 48,
      "outputs": [
        {
          "output_type": "stream",
          "name": "stdout",
          "text": [
            "\n",
            "Danh sách sinh viên được chọn dựa trên điểm tổng 3 môn và điểm cộng:\n",
            "                        Tên  Mã số               Trường cấp 2  Nguyện vọng 1  \\\n",
            "0              QUÁCH KIM HÀ  60132             THCS Phú Cường              6   \n",
            "1          PHẠM TRÚC PHƯƠNG  60421        THCS Trần Đại Nghĩa              6   \n",
            "2            TRẦN KHẢ DOANH  60075    THCS-THPT Nguyễn Khuyến              6   \n",
            "4             TRẦN MINH THY  60558  THCS Nguyễn Thị Minh Khai              6   \n",
            "6    NGUYỄN NGỌC KHÁNH LINH  60249            THCS Thuận Giao              6   \n",
            "..                      ...    ...                        ...            ...   \n",
            "285             LÊ THÚY NHƯ  60376        THCS Trịnh Hoài Đức              6   \n",
            "284  NGUYỄN THỊ TUYẾT NHUNG  60372        THCS Trịnh Hoài Đức              6   \n",
            "288        NGUYỄN THÙY DUNG  60079        THCS Trịnh Hoài Đức              6   \n",
            "287          PHAN THÙY DUNG  60077  THCS Nguyễn Thị Minh Khai              6   \n",
            "289    NGUYỄN THỊ KIM KHÁNH  60226              THCS Phú Long              6   \n",
            "\n",
            "     Nguyện vọng 2  Điểm cộng   Văn  Anh  Toán   Tổng  Xếp hạng  \\\n",
            "0              2.0        3.0  9.00  8.9  8.75  29.65         1   \n",
            "1              7.0        2.0  8.75  9.6  9.25  29.60         2   \n",
            "2              7.0        2.0  8.25  9.6  9.25  29.10         3   \n",
            "4              2.0        2.0  8.25  9.7  8.00  27.95         5   \n",
            "6              8.0        2.0  8.00  8.9  9.00  27.90         7   \n",
            "..             ...        ...   ...  ...   ...    ...       ...   \n",
            "285            8.0        NaN  8.00  5.2  9.00  22.20       286   \n",
            "284            8.0        NaN  7.75  8.7  5.75  22.20       285   \n",
            "288            8.0        NaN  7.00  7.4  7.75  22.15       289   \n",
            "287            2.0        NaN  7.00  6.9  8.25  22.15       288   \n",
            "289            7.0        NaN  8.00  6.9  7.25  22.15       290   \n",
            "\n",
            "     Điểm Trung Bình  Điểm Trung Bình Toán Anh  Điểm Tổng 3 Môn  \\\n",
            "0           8.883333                     8.825            26.65   \n",
            "1           9.200000                     9.425            27.60   \n",
            "2           9.033333                     9.425            27.10   \n",
            "4           8.650000                     8.850            25.95   \n",
            "6           8.633333                     8.950            25.90   \n",
            "..               ...                       ...              ...   \n",
            "285         7.400000                     7.100            22.20   \n",
            "284         7.400000                     7.225            22.20   \n",
            "288         7.383333                     7.575            22.15   \n",
            "287         7.383333                     7.575            22.15   \n",
            "289         7.383333                     7.075            22.15   \n",
            "\n",
            "     Điểm Tổng 3 Môn và điểm cộng  \n",
            "0                           32.65  \n",
            "1                           31.60  \n",
            "2                           31.10  \n",
            "4                           29.95  \n",
            "6                           29.90  \n",
            "..                            ...  \n",
            "285                         22.20  \n",
            "284                         22.20  \n",
            "288                         22.15  \n",
            "287                         22.15  \n",
            "289                         22.15  \n",
            "\n",
            "[300 rows x 15 columns]\n"
          ]
        }
      ]
    },
    {
      "cell_type": "code",
      "source": [
        "# c) Sắp xếp theo điểm trung bình 3 môn từ cao xuống thấp\n",
        "trung_binh_sorted = dataset.sort_values(by='Điểm Trung Bình', ascending=False)\n",
        "\n",
        "# Lấy 300 sinh viên đầu tiên\n",
        "selected_students_trung_binh = trung_binh_sorted.head(300)\n",
        "print(\"\\nDanh sách sinh viên được chọn dựa trên điểm trung bình 3 môn:\")\n",
        "print(selected_students_trung_binh)\n"
      ],
      "metadata": {
        "colab": {
          "base_uri": "https://localhost:8080/"
        },
        "id": "IfiN1jSAV4c2",
        "outputId": "c134db19-5224-49e6-a804-be0718037f9b"
      },
      "execution_count": 49,
      "outputs": [
        {
          "output_type": "stream",
          "name": "stdout",
          "text": [
            "\n",
            "Danh sách sinh viên được chọn dựa trên điểm trung bình 3 môn:\n",
            "                      Tên  Mã số               Trường cấp 2  Nguyện vọng 1  \\\n",
            "3       NGUYỄN MAI PHƯƠNG  60417        THCS Trần Đại Nghĩa              6   \n",
            "5      PHẠM LỢI NGỌC HIỀN  60158         THCS Châu Văn Liêm              6   \n",
            "7          ĐẶNG MINH CHÂU  60067  THCS Nguyễn Thị Minh Khai              6   \n",
            "8            LÊ MINH NGỌC  60334        THCS Trần Đại Nghĩa              6   \n",
            "1        PHẠM TRÚC PHƯƠNG  60421        THCS Trần Đại Nghĩa              6   \n",
            "..                    ...    ...                        ...            ...   \n",
            "316     VŨ TRỊNH LINH NHI  60352              THCS Phú Long              6   \n",
            "152      NGUYỄN THÁI LONG  60268              THCS Phú Long              6   \n",
            "151  NGUYỄN THỊ THÙY TRÂM  60575        THCS Trịnh Hoài Đức              6   \n",
            "317  NGUYỄN TRẦN HOÀNG VI  60603        THCS Trần Đại Nghĩa              6   \n",
            "318    TRẦN TÔ THANH LIÊM  60245        THCS Trịnh Hoài Đức              6   \n",
            "\n",
            "     Nguyện vọng 2  Điểm cộng   Văn   Anh  Toán   Tổng  Xếp hạng  \\\n",
            "3              7.0        NaN  8.75  10.0  9.25  28.00         4   \n",
            "5              7.0        NaN  8.50   9.9  9.50  27.90         6   \n",
            "7              2.0        NaN  9.00   9.9  9.00  27.90         8   \n",
            "8              7.0        NaN  8.75   9.3  9.75  27.80         9   \n",
            "1              7.0        2.0  8.75   9.6  9.25  29.60         2   \n",
            "..             ...        ...   ...   ...   ...    ...       ...   \n",
            "316            7.0        NaN  7.00   6.6  8.25  21.85       317   \n",
            "152            7.0        2.0  7.50   8.1  6.25  23.85       153   \n",
            "151            8.0        2.0  5.75   8.6  7.50  23.85       152   \n",
            "317            7.0        NaN  7.25   8.3  6.25  21.80       318   \n",
            "318            8.0        NaN  6.25   8.8  6.75  21.80       319   \n",
            "\n",
            "     Điểm Trung Bình  Điểm Trung Bình Toán Anh  Điểm Tổng 3 Môn  \\\n",
            "3           9.333333                     9.625            28.00   \n",
            "5           9.300000                     9.700            27.90   \n",
            "7           9.300000                     9.450            27.90   \n",
            "8           9.266667                     9.525            27.80   \n",
            "1           9.200000                     9.425            27.60   \n",
            "..               ...                       ...              ...   \n",
            "316         7.283333                     7.425            21.85   \n",
            "152         7.283333                     7.175            21.85   \n",
            "151         7.283333                     8.050            21.85   \n",
            "317         7.266667                     7.275            21.80   \n",
            "318         7.266667                     7.775            21.80   \n",
            "\n",
            "     Điểm Tổng 3 Môn và điểm cộng  \n",
            "3                           28.00  \n",
            "5                           27.90  \n",
            "7                           27.90  \n",
            "8                           27.80  \n",
            "1                           31.60  \n",
            "..                            ...  \n",
            "316                         21.85  \n",
            "152                         25.85  \n",
            "151                         25.85  \n",
            "317                         21.80  \n",
            "318                         21.80  \n",
            "\n",
            "[300 rows x 15 columns]\n"
          ]
        }
      ]
    },
    {
      "cell_type": "code",
      "source": [
        "## So sánh 2 bạn sinh viên mã số: 60575 và 60602 dựa trên tổng điểm 3 môn (không tính điểm cộng)\n",
        "\n",
        "# Lọc thông tin của hai sinh viên theo mã số\n",
        "student_1 = dataset.loc[dataset['Mã số'] == 60575]\n",
        "student_2 = dataset.loc[dataset['Mã số'] == 60602]\n",
        "\n",
        "# Kiểm tra xem hai sinh viên có tồn tại không\n",
        "if not student_1.empty and not student_2.empty:\n",
        "    # Lấy tổng điểm 3 môn cho cả hai sinh viên\n",
        "    total_score_student_1 = student_1['Điểm Tổng 3 Môn'].values[0]\n",
        "    total_score_student_2 = student_2['Điểm Tổng 3 Môn'].values[0]\n",
        "\n",
        "    # So sánh tổng điểm\n",
        "    if total_score_student_1 > total_score_student_2:\n",
        "        print(f\"Sinh viên mã số 60575 có tổng điểm 3 môn cao hơn sinh viên mã số 60602.\")\n",
        "    elif total_score_student_1 < total_score_student_2:\n",
        "        print(f\"Sinh viên mã số 60602 có tổng điểm 3 môn cao hơn sinh viên mã số 60575.\")\n",
        "    else:\n",
        "        print(\"Hai sinh viên có tổng điểm 3 môn bằng nhau.\")\n",
        "else:\n",
        "    print(\"Một hoặc cả hai sinh viên không tồn tại trong danh sách.\")\n",
        "\n"
      ],
      "metadata": {
        "colab": {
          "base_uri": "https://localhost:8080/"
        },
        "id": "Jkc_pnuPWBeo",
        "outputId": "c5dac265-22a0-44f8-9f9d-cbbd5932674b"
      },
      "execution_count": 50,
      "outputs": [
        {
          "output_type": "stream",
          "name": "stdout",
          "text": [
            "Sinh viên mã số 60602 có tổng điểm 3 môn cao hơn sinh viên mã số 60575.\n"
          ]
        }
      ]
    },
    {
      "cell_type": "code",
      "source": [],
      "metadata": {
        "id": "PAxbsft8Y3YW"
      },
      "execution_count": null,
      "outputs": []
    }
  ]
}